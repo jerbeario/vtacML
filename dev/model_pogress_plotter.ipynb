{
 "cells": [
  {
   "cell_type": "code",
   "execution_count": 1,
   "id": "4ec07d13-b571-418f-9403-45502f8182ec",
   "metadata": {},
   "outputs": [],
   "source": [
    "import time \n",
    "import pandas as pd\n",
    "import numpy as np\n",
    "import matplotlib.pyplot as plt\n",
    "from datetime import datetime"
   ]
  },
  {
   "cell_type": "code",
   "execution_count": 97,
   "id": "0967ef53-d7aa-4b05-b64f-ef6fc411183c",
   "metadata": {},
   "outputs": [],
   "source": [
    "data = [0]\n",
    "t = [0]"
   ]
  },
  {
   "cell_type": "code",
   "execution_count": 98,
   "id": "a2503454-8739-46ba-b58e-2c26b037a61c",
   "metadata": {},
   "outputs": [],
   "source": [
    "def add_data_point(data, time, plot=True):\n",
    "    start_time = 1724229830\n",
    "    current_time = time.time()\n",
    "    delta_time = (current_time-start_time)/3600\n",
    "    n_jobs = 240\n",
    "    out = open('out.txt').read()\n",
    "    out_split = out.split()\n",
    "    df_out = pd.DataFrame(data=out_split)\n",
    "    # index = df_out[df_out[0] == 'rfc'].index[0]\n",
    "    # df_trimmed = df_out.iloc[index:]\n",
    "    solved_models = df_out.value_counts()['[CV]']\n",
    "    print(f\"Progress: {round(100*solved_models/n_jobs, 1)}%\\n\"\n",
    "         \n",
    "         )\n",
    "    if delta_time - t[-1]>0.2:\n",
    "        data.append(solved_models)\n",
    "        t.append(delta_time)\n",
    "\n",
    "    if plot:\n",
    "        \n",
    "        fig, ax = plt.subplots()\n",
    "\n",
    "        plt.plot(t, data, marker='x', label='models solved')\n",
    "        plt.axhline(y=n_jobs, color='red', label='total models')\n",
    "        plt.xlabel('time (hours)')\n",
    "        plt.ylabel('Models solved')\n",
    "        plt.title('Progress of models grid search over time')\n",
    "        plt.ylim(0, n_jobs*1.1)\n",
    "        plt.legend()\n",
    "\n",
    "    "
   ]
  },
  {
   "cell_type": "code",
   "execution_count": 99,
   "id": "b793de06",
   "metadata": {},
   "outputs": [],
   "source": [
    "def est_comp_time(data, t):\n",
    "    slope = []\n",
    "    n_jobs = 240\n",
    "    \n",
    "    for i in range(len(data)-1):\n",
    "        slope.append((data[i+1]-data[i])/(t[i+1]-t[i]))\n",
    "    avg_slope = np.average(slope)\n",
    "    time_left = (n_jobs-data[-1])/avg_slope\n",
    "    est_time = datetime.fromtimestamp(time_left*3600 + time.time())\n",
    "    print(\"Estimated completion time:\", est_time)"
   ]
  },
  {
   "cell_type": "code",
   "execution_count": 100,
   "id": "6a158dd2-b8a3-4e85-882a-60268f115214",
   "metadata": {},
   "outputs": [
    {
     "name": "stdout",
     "output_type": "stream",
     "text": [
      "Progress: 70.4%\n",
      "\n",
      "Estimated completion time: 2024-08-24 07:01:12.743278\n"
     ]
    },
    {
     "data": {
      "image/png": "[encoded data removed]",
      "text/plain": [
       "<Figure size 432x288 with 1 Axes>"
      ]
     },
     "metadata": {
      "needs_background": "light"
     },
     "output_type": "display_data"
    }
   ],
   "source": [
    "add_data_point(data, time, plot=True)\n",
    "est_comp_time(data, t)"
   ]
  },
  {
   "cell_type": "code",
   "execution_count": 26,
   "id": "8327c35e-d57e-4760-a0b4-b6cecee232a2",
   "metadata": {
    "scrolled": true
   },
   "outputs": [
    {
     "data": {
      "text/plain": [
       "([0,\n",
       "  7.012518567244212,\n",
       "  7.255603783064418,\n",
       "  9.543548785845438,\n",
       "  12.025870856642722,\n",
       "  13.381584204435349],\n",
       " [0, 357, 373, 475, 572, 614])"
      ]
     },
     "execution_count": 26,
     "metadata": {},
     "output_type": "execute_result"
    }
   ],
   "source": [
    "t, data"
   ]
  },
  {
   "cell_type": "code",
   "execution_count": 41,
   "id": "c4cdc9e0",
   "metadata": {},
   "outputs": [],
   "source": []
  }
 ],
 "metadata": {
  "kernelspec": {
   "display_name": "Python 3 (ipykernel)",
   "language": "python",
   "name": "python3"
  },
  "language_info": {
   "codemirror_mode": {
    "name": "ipython",
    "version": 3
   },
   "file_extension": ".py",
   "mimetype": "text/x-python",
   "name": "python",
   "nbconvert_exporter": "python",
   "pygments_lexer": "ipython3",
   "version": "3.10.0"
  }
 },
 "nbformat": 4,
 "nbformat_minor": 5
}
